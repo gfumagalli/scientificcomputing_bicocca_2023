{
 "cells": [
  {
   "cell_type": "markdown",
   "metadata": {},
   "source": [
    "# Exercises for scientific computing 2023\n",
    "\n",
    "For each lecture I prepared two exercises. I report here the numer of the exercise and the lectures.\n",
    "[Giulia Fumagalli, # 825592, XXXVIII phd cycle]"
   ]
  },
  {
   "cell_type": "markdown",
   "metadata": {},
   "source": [
    "## Lecture 1\n",
    "    ### Es. 5\n",
    "    "
   ]
  },
  {
   "cell_type": "code",
   "execution_count": null,
   "metadata": {},
   "outputs": [],
   "source": [
    "\n",
    "def n_letter_words(message,n):\n",
    "    words = message.split()\n",
    "    n_letters = [w for w in words if len(w) == n]\n",
    "    return n_letters\n",
    "\n",
    "def pangram(quote):\n",
    "    foxquote = \"The quick brown fox jumps over the lazy dog\"\n",
    "    alphabet = set(foxquote.replace(\" \", \"\").lower())\n",
    "    input_quote = set(quote.replace(\" \", \"\").lower())\n",
    "    if alphabet == input_quote: print('yes, this is a pangram')\n",
    "    else: print('Sorry but this is not a pangram')\n",
    "\n",
    "    \n",
    "i = input('\\nHello, welcome to the the word of words!  Here you can:\\n\\n * Check how many words with lengh n are present in your message: press 1\\\n",
    "     .\\n * Check if your message is a pangram: press 2\\n')\n",
    "\n",
    "if i == '1':\n",
    "    quote = input(\"Enter your message: \")\n",
    "    n = input(\"Enter lengh of the words you what to find: \")\n",
    "    print(n_letter_words(quote,n))\n",
    "else:\n",
    "    quote = input(\"Enter your message: \")\n",
    "    pangram(quote)"
   ]
  },
  {
   "cell_type": "code",
   "execution_count": null,
   "metadata": {},
   "outputs": [],
   "source": []
  }
 ],
 "metadata": {
  "language_info": {
   "name": "python"
  }
 },
 "nbformat": 4,
 "nbformat_minor": 2
}
